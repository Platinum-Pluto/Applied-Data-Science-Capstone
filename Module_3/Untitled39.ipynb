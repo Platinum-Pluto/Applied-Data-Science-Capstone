{
  "nbformat": 4,
  "nbformat_minor": 0,
  "metadata": {
    "colab": {
      "provenance": []
    },
    "kernelspec": {
      "name": "python3",
      "display_name": "Python 3"
    },
    "language_info": {
      "name": "python"
    }
  },
  "cells": [
    {
      "cell_type": "code",
      "source": [
        "!pip install -q dash"
      ],
      "metadata": {
        "colab": {
          "base_uri": "https://localhost:8080/"
        },
        "id": "NQEVacW5U4p4",
        "outputId": "eac57636-0790-45d7-abf3-8aba6d4e0a60"
      },
      "execution_count": 1,
      "outputs": [
        {
          "output_type": "stream",
          "name": "stdout",
          "text": [
            "\u001b[2K   \u001b[90m━━━━━━━━━━━━━━━━━━━━━━━━━━━━━━━━━━━━━━━━\u001b[0m \u001b[32m7.8/7.8 MB\u001b[0m \u001b[31m46.5 MB/s\u001b[0m eta \u001b[36m0:00:00\u001b[0m\n",
            "\u001b[2K   \u001b[90m━━━━━━━━━━━━━━━━━━━━━━━━━━━━━━━━━━━━━━━━\u001b[0m \u001b[32m101.7/101.7 kB\u001b[0m \u001b[31m8.3 MB/s\u001b[0m eta \u001b[36m0:00:00\u001b[0m\n",
            "\u001b[2K   \u001b[90m━━━━━━━━━━━━━━━━━━━━━━━━━━━━━━━━━━━━━━━━\u001b[0m \u001b[32m228.0/228.0 kB\u001b[0m \u001b[31m15.8 MB/s\u001b[0m eta \u001b[36m0:00:00\u001b[0m\n",
            "\u001b[?25h"
          ]
        }
      ]
    },
    {
      "cell_type": "code",
      "execution_count": 2,
      "metadata": {
        "colab": {
          "base_uri": "https://localhost:8080/",
          "height": 671
        },
        "id": "WNzq5HPaT_w1",
        "outputId": "0ed64fbf-fa8b-4df3-9179-5576936b5c36"
      },
      "outputs": [
        {
          "output_type": "display_data",
          "data": {
            "text/plain": [
              "<IPython.core.display.Javascript object>"
            ],
            "application/javascript": [
              "(async (port, path, width, height, cache, element) => {\n",
              "    if (!google.colab.kernel.accessAllowed && !cache) {\n",
              "      return;\n",
              "    }\n",
              "    element.appendChild(document.createTextNode(''));\n",
              "    const url = await google.colab.kernel.proxyPort(port, {cache});\n",
              "    const iframe = document.createElement('iframe');\n",
              "    iframe.src = new URL(path, url).toString();\n",
              "    iframe.height = height;\n",
              "    iframe.width = width;\n",
              "    iframe.style.border = 0;\n",
              "    iframe.allow = [\n",
              "        'accelerometer',\n",
              "        'autoplay',\n",
              "        'camera',\n",
              "        'clipboard-read',\n",
              "        'clipboard-write',\n",
              "        'gyroscope',\n",
              "        'magnetometer',\n",
              "        'microphone',\n",
              "        'serial',\n",
              "        'usb',\n",
              "        'xr-spatial-tracking',\n",
              "    ].join('; ');\n",
              "    element.appendChild(iframe);\n",
              "  })(8050, \"/\", \"100%\", 650, false, window.element)"
            ]
          },
          "metadata": {}
        }
      ],
      "source": [
        "import pandas as pd\n",
        "import dash\n",
        "from dash import html, dcc\n",
        "from dash.dependencies import Input, Output\n",
        "import plotly.express as px\n",
        "\n",
        "# Read the SpaceX data into pandas dataframe\n",
        "spacex_df = pd.read_csv('/content/spacex_launch_dash.csv')\n",
        "max_payload = spacex_df['Payload Mass (kg)'].max()\n",
        "min_payload = spacex_df['Payload Mass (kg)'].min()\n",
        "\n",
        "# Create a dash application\n",
        "app = dash.Dash(__name__)\n",
        "\n",
        "# Create an app layout\n",
        "app.layout = html.Div([\n",
        "    html.H1('SpaceX Launch Records Dashboard',\n",
        "            style={'textAlign': 'center', 'color': '#503D36', 'font-size': 40}),\n",
        "\n",
        "    # TASK 1: Add a dropdown list to enable Launch Site selection\n",
        "    dcc.Dropdown(\n",
        "        id='site-dropdown',\n",
        "        options=[\n",
        "            {'label': 'All Sites', 'value': 'ALL'},\n",
        "            {'label': 'CCAFS LC-40', 'value': 'CCAFS LC-40'},\n",
        "            {'label': 'VAFB SLC-4E', 'value': 'VAFB SLC-4E'},\n",
        "            {'label': 'KSC LC-39A', 'value': 'KSC LC-39A'},\n",
        "            {'label': 'CCAFS SLC-40', 'value': 'CCAFS SLC-40'}\n",
        "        ],\n",
        "        value='ALL',\n",
        "        placeholder=\"Select a Launch Site here\",\n",
        "        searchable=True\n",
        "    ),\n",
        "\n",
        "    html.Br(),\n",
        "\n",
        "    # TASK 2: Add a pie chart to show the total successful launches count for all sites\n",
        "    html.Div(dcc.Graph(id='success-pie-chart')),\n",
        "\n",
        "    html.Br(),\n",
        "\n",
        "    html.P(\"Payload range (Kg):\"),\n",
        "\n",
        "    # TASK 3: Add a slider to select payload range\n",
        "    dcc.RangeSlider(\n",
        "        id='payload-slider',\n",
        "        min=0,\n",
        "        max=10000,\n",
        "        step=1000,\n",
        "        value=[min_payload, max_payload],\n",
        "        marks={\n",
        "            0: '0 kg',\n",
        "            2500: '2500',\n",
        "            5000: '5000',\n",
        "            7500: '7500',\n",
        "            10000: '10000'\n",
        "        }\n",
        "    ),\n",
        "\n",
        "    # TASK 4: Add a scatter chart to show the correlation between payload and launch success\n",
        "    html.Div(dcc.Graph(id='success-payload-scatter-chart')),\n",
        "])\n",
        "\n",
        "# TASK 2: Callback function for `site-dropdown` as input, `success-pie-chart` as output\n",
        "@app.callback(\n",
        "    Output(component_id='success-pie-chart', component_property='figure'),\n",
        "    Input(component_id='site-dropdown', component_property='value')\n",
        ")\n",
        "def get_pie_chart(entered_site):\n",
        "    if entered_site == 'ALL':\n",
        "        fig = px.pie(\n",
        "            spacex_df,\n",
        "            values='class',\n",
        "            names='Launch Site',\n",
        "            title='Total Success Launches By Site'\n",
        "        )\n",
        "    else:\n",
        "        filtered_df = spacex_df[spacex_df['Launch Site'] == entered_site]\n",
        "        fig = px.pie(\n",
        "            filtered_df,\n",
        "            names='class',\n",
        "            title=f'Success vs Failed Launches for {entered_site}',\n",
        "            color_discrete_map={0: 'red', 1: 'green'}\n",
        "        )\n",
        "    return fig\n",
        "\n",
        "# TASK 4: Callback function for `site-dropdown` and `payload-slider` as inputs, `success-payload-scatter-chart` as output\n",
        "@app.callback(\n",
        "    Output(component_id='success-payload-scatter-chart', component_property='figure'),\n",
        "    [Input(component_id='site-dropdown', component_property='value'),\n",
        "     Input(component_id='payload-slider', component_property='value')]\n",
        ")\n",
        "def get_scatter_chart(entered_site, payload_range):\n",
        "    low, high = payload_range\n",
        "    mask = (spacex_df['Payload Mass (kg)'] >= low) & (spacex_df['Payload Mass (kg)'] <= high)\n",
        "    filtered_df = spacex_df[mask]\n",
        "\n",
        "    if entered_site == 'ALL':\n",
        "        fig = px.scatter(\n",
        "            filtered_df,\n",
        "            x='Payload Mass (kg)',\n",
        "            y='class',\n",
        "            color='Booster Version Category',\n",
        "            title='Payload vs. Success for All Sites',\n",
        "            labels={'class': 'Launch Outcome (0=Failed, 1=Success)'}\n",
        "        )\n",
        "    else:\n",
        "        site_df = filtered_df[filtered_df['Launch Site'] == entered_site]\n",
        "        fig = px.scatter(\n",
        "            site_df,\n",
        "            x='Payload Mass (kg)',\n",
        "            y='class',\n",
        "            color='Booster Version Category',\n",
        "            title=f'Payload vs. Success for {entered_site}',\n",
        "            labels={'class': 'Launch Outcome (0=Failed, 1=Success)'}\n",
        "        )\n",
        "\n",
        "    return fig\n",
        "\n",
        "if __name__ == '__main__':\n",
        "    app.run_server(debug=True, port=8050)"
      ]
    }
  ]
}